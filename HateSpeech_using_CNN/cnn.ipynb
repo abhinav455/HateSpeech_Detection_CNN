{
 "cells": [
  {
   "cell_type": "code",
   "execution_count": 1,
   "metadata": {
    "colab": {
     "base_uri": "https://localhost:8080/"
    },
    "id": "JzPNWBItzKQ5",
    "outputId": "31d15741-2a57-47ef-ee21-59b31ef4ff3c"
   },
   "outputs": [
    {
     "name": "stdout",
     "output_type": "stream",
     "text": [
      "Requirement already satisfied: spacy in /usr/local/lib/python3.7/dist-packages (2.2.4)\n",
      "Requirement already satisfied: plac<1.2.0,>=0.9.6 in /usr/local/lib/python3.7/dist-packages (from spacy) (1.1.3)\n",
      "Requirement already satisfied: srsly<1.1.0,>=1.0.2 in /usr/local/lib/python3.7/dist-packages (from spacy) (1.0.5)\n",
      "Requirement already satisfied: requests<3.0.0,>=2.13.0 in /usr/local/lib/python3.7/dist-packages (from spacy) (2.23.0)\n",
      "Requirement already satisfied: numpy>=1.15.0 in /usr/local/lib/python3.7/dist-packages (from spacy) (1.19.5)\n",
      "Requirement already satisfied: thinc==7.4.0 in /usr/local/lib/python3.7/dist-packages (from spacy) (7.4.0)\n",
      "Requirement already satisfied: setuptools in /usr/local/lib/python3.7/dist-packages (from spacy) (57.4.0)\n",
      "Requirement already satisfied: blis<0.5.0,>=0.4.0 in /usr/local/lib/python3.7/dist-packages (from spacy) (0.4.1)\n",
      "Requirement already satisfied: tqdm<5.0.0,>=4.38.0 in /usr/local/lib/python3.7/dist-packages (from spacy) (4.62.3)\n",
      "Requirement already satisfied: cymem<2.1.0,>=2.0.2 in /usr/local/lib/python3.7/dist-packages (from spacy) (2.0.6)\n",
      "Requirement already satisfied: wasabi<1.1.0,>=0.4.0 in /usr/local/lib/python3.7/dist-packages (from spacy) (0.8.2)\n",
      "Requirement already satisfied: murmurhash<1.1.0,>=0.28.0 in /usr/local/lib/python3.7/dist-packages (from spacy) (1.0.6)\n",
      "Requirement already satisfied: preshed<3.1.0,>=3.0.2 in /usr/local/lib/python3.7/dist-packages (from spacy) (3.0.6)\n",
      "Requirement already satisfied: catalogue<1.1.0,>=0.0.7 in /usr/local/lib/python3.7/dist-packages (from spacy) (1.0.0)\n",
      "Requirement already satisfied: importlib-metadata>=0.20 in /usr/local/lib/python3.7/dist-packages (from catalogue<1.1.0,>=0.0.7->spacy) (4.8.2)\n",
      "Requirement already satisfied: zipp>=0.5 in /usr/local/lib/python3.7/dist-packages (from importlib-metadata>=0.20->catalogue<1.1.0,>=0.0.7->spacy) (3.6.0)\n",
      "Requirement already satisfied: typing-extensions>=3.6.4 in /usr/local/lib/python3.7/dist-packages (from importlib-metadata>=0.20->catalogue<1.1.0,>=0.0.7->spacy) (3.10.0.2)\n",
      "Requirement already satisfied: certifi>=2017.4.17 in /usr/local/lib/python3.7/dist-packages (from requests<3.0.0,>=2.13.0->spacy) (2021.10.8)\n",
      "Requirement already satisfied: urllib3!=1.25.0,!=1.25.1,<1.26,>=1.21.1 in /usr/local/lib/python3.7/dist-packages (from requests<3.0.0,>=2.13.0->spacy) (1.24.3)\n",
      "Requirement already satisfied: idna<3,>=2.5 in /usr/local/lib/python3.7/dist-packages (from requests<3.0.0,>=2.13.0->spacy) (2.10)\n",
      "Requirement already satisfied: chardet<4,>=3.0.2 in /usr/local/lib/python3.7/dist-packages (from requests<3.0.0,>=2.13.0->spacy) (3.0.4)\n",
      "Collecting en_core_web_sm==2.2.5\n",
      "  Downloading https://github.com/explosion/spacy-models/releases/download/en_core_web_sm-2.2.5/en_core_web_sm-2.2.5.tar.gz (12.0 MB)\n",
      "\u001b[K     |████████████████████████████████| 12.0 MB 4.2 MB/s \n",
      "\u001b[?25hRequirement already satisfied: spacy>=2.2.2 in /usr/local/lib/python3.7/dist-packages (from en_core_web_sm==2.2.5) (2.2.4)\n",
      "Requirement already satisfied: srsly<1.1.0,>=1.0.2 in /usr/local/lib/python3.7/dist-packages (from spacy>=2.2.2->en_core_web_sm==2.2.5) (1.0.5)\n",
      "Requirement already satisfied: catalogue<1.1.0,>=0.0.7 in /usr/local/lib/python3.7/dist-packages (from spacy>=2.2.2->en_core_web_sm==2.2.5) (1.0.0)\n",
      "Requirement already satisfied: preshed<3.1.0,>=3.0.2 in /usr/local/lib/python3.7/dist-packages (from spacy>=2.2.2->en_core_web_sm==2.2.5) (3.0.6)\n",
      "Requirement already satisfied: numpy>=1.15.0 in /usr/local/lib/python3.7/dist-packages (from spacy>=2.2.2->en_core_web_sm==2.2.5) (1.19.5)\n",
      "Requirement already satisfied: tqdm<5.0.0,>=4.38.0 in /usr/local/lib/python3.7/dist-packages (from spacy>=2.2.2->en_core_web_sm==2.2.5) (4.62.3)\n",
      "Requirement already satisfied: plac<1.2.0,>=0.9.6 in /usr/local/lib/python3.7/dist-packages (from spacy>=2.2.2->en_core_web_sm==2.2.5) (1.1.3)\n",
      "Requirement already satisfied: requests<3.0.0,>=2.13.0 in /usr/local/lib/python3.7/dist-packages (from spacy>=2.2.2->en_core_web_sm==2.2.5) (2.23.0)\n",
      "Requirement already satisfied: thinc==7.4.0 in /usr/local/lib/python3.7/dist-packages (from spacy>=2.2.2->en_core_web_sm==2.2.5) (7.4.0)\n",
      "Requirement already satisfied: murmurhash<1.1.0,>=0.28.0 in /usr/local/lib/python3.7/dist-packages (from spacy>=2.2.2->en_core_web_sm==2.2.5) (1.0.6)\n",
      "Requirement already satisfied: blis<0.5.0,>=0.4.0 in /usr/local/lib/python3.7/dist-packages (from spacy>=2.2.2->en_core_web_sm==2.2.5) (0.4.1)\n",
      "Requirement already satisfied: setuptools in /usr/local/lib/python3.7/dist-packages (from spacy>=2.2.2->en_core_web_sm==2.2.5) (57.4.0)\n",
      "Requirement already satisfied: wasabi<1.1.0,>=0.4.0 in /usr/local/lib/python3.7/dist-packages (from spacy>=2.2.2->en_core_web_sm==2.2.5) (0.8.2)\n",
      "Requirement already satisfied: cymem<2.1.0,>=2.0.2 in /usr/local/lib/python3.7/dist-packages (from spacy>=2.2.2->en_core_web_sm==2.2.5) (2.0.6)\n",
      "Requirement already satisfied: importlib-metadata>=0.20 in /usr/local/lib/python3.7/dist-packages (from catalogue<1.1.0,>=0.0.7->spacy>=2.2.2->en_core_web_sm==2.2.5) (4.8.2)\n",
      "Requirement already satisfied: zipp>=0.5 in /usr/local/lib/python3.7/dist-packages (from importlib-metadata>=0.20->catalogue<1.1.0,>=0.0.7->spacy>=2.2.2->en_core_web_sm==2.2.5) (3.6.0)\n",
      "Requirement already satisfied: typing-extensions>=3.6.4 in /usr/local/lib/python3.7/dist-packages (from importlib-metadata>=0.20->catalogue<1.1.0,>=0.0.7->spacy>=2.2.2->en_core_web_sm==2.2.5) (3.10.0.2)\n",
      "Requirement already satisfied: urllib3!=1.25.0,!=1.25.1,<1.26,>=1.21.1 in /usr/local/lib/python3.7/dist-packages (from requests<3.0.0,>=2.13.0->spacy>=2.2.2->en_core_web_sm==2.2.5) (1.24.3)\n",
      "Requirement already satisfied: certifi>=2017.4.17 in /usr/local/lib/python3.7/dist-packages (from requests<3.0.0,>=2.13.0->spacy>=2.2.2->en_core_web_sm==2.2.5) (2021.10.8)\n",
      "Requirement already satisfied: chardet<4,>=3.0.2 in /usr/local/lib/python3.7/dist-packages (from requests<3.0.0,>=2.13.0->spacy>=2.2.2->en_core_web_sm==2.2.5) (3.0.4)\n",
      "Requirement already satisfied: idna<3,>=2.5 in /usr/local/lib/python3.7/dist-packages (from requests<3.0.0,>=2.13.0->spacy>=2.2.2->en_core_web_sm==2.2.5) (2.10)\n",
      "\u001b[38;5;2m✔ Download and installation successful\u001b[0m\n",
      "You can now load the model via spacy.load('en_core_web_sm')\n"
     ]
    }
   ],
   "source": [
    "!pip install spacy\n",
    "!python -m spacy download en_core_web_sm"
   ]
  },
  {
   "cell_type": "code",
   "execution_count": 2,
   "metadata": {
    "id": "q709pNmazkJj"
   },
   "outputs": [],
   "source": [
    "from sklearn.utils import resample\n",
    "from sklearn.model_selection import KFold, train_test_split, StratifiedKFold\n",
    "from sklearn import metrics\n",
    "\n",
    "from torch.utils.data import Dataset, DataLoader\n",
    "from torch.autograd import Variable\n",
    "from torch.nn.utils.rnn import pack_padded_sequence\n",
    "\n",
    "from string import punctuation, ascii_lowercase\n",
    "\n",
    "from imblearn.over_sampling import SMOTE\n",
    "\n",
    "from gensim.models import KeyedVectors\n",
    "\n",
    "from tqdm import tqdm\n",
    "\n",
    "import os\n",
    "import re\n",
    "import random\n",
    "import time\n",
    "import copy\n",
    "import logging\n",
    "import spacy\n",
    "import json\n",
    "import gdown\n",
    "import pandas as pd\n",
    "pd.options.mode.chained_assignment = None\n",
    "import numpy as np\n",
    "import seaborn as sns\n",
    "import torch \n",
    "import torch.nn as nn\n",
    "import torch.optim as optim\n",
    "import torch.nn.functional as F\n",
    "import matplotlib.pyplot as plt\n",
    "import warnings\n",
    "\n",
    "logging.basicConfig(format='%(message)s')\n",
    "logger = logging.getLogger()\n",
    "logger.setLevel(logging.INFO)\n",
    "warnings.filterwarnings('ignore')"
   ]
  },
  {
   "cell_type": "code",
   "execution_count": 3,
   "metadata": {
    "id": "LHUbPPu7zoay"
   },
   "outputs": [],
   "source": [
    "class PreprocessData:\n",
    "  #Regular Expression\n",
    "  nlp = spacy.load(\"en_core_web_sm\", disable=['parser', 'ner'])\n",
    "  space_pattern = '\\s+'\n",
    "  giant_url_regex = ('http[s]?://(?:[a-zA-Z]|[0-9]|[$-_@.&+]|''[!*\\(\\),]|(?:%[0-9a-fA-F][0-9a-fA-F]))+')\n",
    "  mention_regex1 = '([@#][\\w\\s]+:)'\n",
    "  mention_regex2 = '([@#][\\w]+)'\n",
    "  mention_regex3 = '(RT\\s)'\n",
    "  special_character = '[^a-zA-Z\\s]'\n",
    "  consecutive_space1 = '(?:\\s\\s)'\n",
    "  consecutive_space2 = '(?:\\s{3})'\n",
    "  consecutive_space3 = '(?:\\b\\s{2})'\n",
    "  html_entities = '&([a-z0-9]+|#[0-9]{1,6}|#x[0-9a-fA-F]{1,6});'\n",
    "\n",
    "  def __init__(self):\n",
    "    self.data_df = None\n",
    "\n",
    "  def spacyLemmatize(self, sentence):\n",
    "    sentence = sentence.lower()\n",
    "    doc = self.nlp(sentence)\n",
    "    return \" \".join([token.lemma_ for token in doc])\n",
    "\n",
    "  def run(self):\n",
    "    \"\"\"\n",
    "      Remove URL + Space + Emoji + Newline\n",
    "    \"\"\"\n",
    "    for t in tqdm(range(len(self.data_df['text'])), position=0, leave=True):\n",
    "      if(\"\\n\" in self.data_df['text'][t]):\n",
    "        self.data_df['text'][t] = self.data_df['text'][t].replace(\"\\n\", \" \")\n",
    "      parsed_text = re.sub(self.space_pattern, ' ', self.data_df['text'][t])\n",
    "      parsed_text = re.sub(self.giant_url_regex, '', parsed_text)\n",
    "      if (\"RT\" in parsed_text):\n",
    "        parsed_text = re.sub(self.mention_regex3, '', parsed_text)\n",
    "      parsed_text = re.sub(self.mention_regex1, '', parsed_text)\n",
    "      parsed_text = re.sub(self.mention_regex2, '', parsed_text)\t\n",
    "      parsed_text = re.sub(self.html_entities, ' ', parsed_text)\n",
    "      parsed_text = re.sub(self.special_character, '', parsed_text)\n",
    "      parsed_text = re.sub(self.consecutive_space2, ' ', parsed_text)\n",
    "      parsed_text = re.sub(self.consecutive_space1, ' ', parsed_text)\n",
    "      parsed_text = re.sub(self.consecutive_space3, ' ', parsed_text)\n",
    "      parsed_text = self.spacyLemmatize(parsed_text)\n",
    "      parsed_text = parsed_text.replace('-PRON-', '')\n",
    "      parsed_text = re.sub(self.consecutive_space2, ' ', parsed_text)\n",
    "      parsed_text = re.sub(self.consecutive_space1, ' ', parsed_text)\n",
    "      parsed_text = re.sub(self.consecutive_space3, ' ', parsed_text)\n",
    "      self.data_df['text'][t] = parsed_text.strip()\n",
    "\n",
    "  def cvToCsv(self, path):\n",
    "    self.data_df.to_csv(path, index=False, columns=[\"text\", \"class\"])\n",
    "  \n",
    "  def pipeline(self, data_df, name):\n",
    "    self.data_df = data_df\n",
    "    self.run()\n",
    "    self.cvToCsv(name)\n",
    "    return self.data_df"
   ]
  },
  {
   "cell_type": "code",
   "execution_count": 4,
   "metadata": {
    "colab": {
     "base_uri": "https://localhost:8080/"
    },
    "id": "v6QGY487zsJ6",
    "outputId": "9cfedc85-f298-4b05-e5f0-29aa3da1afa5"
   },
   "outputs": [
    {
     "name": "stderr",
     "output_type": "stream",
     "text": [
      "Preprocess train dataset from english_dataset.tsv\n",
      "100%|██████████| 5852/5852 [00:23<00:00, 246.45it/s]\n",
      "Preprocess test dataset from test_english_dataset.tsv\n",
      "100%|██████████| 1153/1153 [00:04<00:00, 237.16it/s]\n"
     ]
    }
   ],
   "source": [
    "data_name = \"HASOC-2019\"\n",
    "train_file_path = 'english_dataset.tsv'\n",
    "test_file_path = 'test_english_dataset.tsv'\n",
    "preprocessor = PreprocessData()\n",
    "\n",
    "logger.info(f\"Preprocess train dataset from {train_file_path}\")\n",
    "train_df = pd.read_csv(train_file_path, sep='\\t')\n",
    "train_df = train_df.drop(columns=['task_2', 'task_3', 'text_id'])\n",
    "train_df = train_df.rename(columns={'task_1': 'class'})\n",
    "train_df[\"class\"] = train_df[\"class\"].replace({'NOT': 0, 'HOF': 1})\n",
    "train_df = preprocessor.pipeline(train_df, 'preprocessed_english_dataset.tsv')\n",
    "\n",
    "logger.info(f\"Preprocess test dataset from {test_file_path}\")\n",
    "test_df = pd.read_csv(test_file_path, sep='\\t')\n",
    "test_df = test_df.drop(columns=['task_2', 'task_3', 'text_id'])\n",
    "test_df = test_df.rename(columns={'task_1': 'class'})\n",
    "test_df[\"class\"] = test_df[\"class\"].replace({'NOT': 0, 'HOF': 1})\n",
    "test_df = preprocessor.pipeline(test_df, 'preprocessed_hasoc2019_en_test-2919.tsv')\n",
    "\n",
    "dataset_max_length = train_df['seq_len'] = train_df[\"text\"].apply(lambda words: len(words.split(\" \")))\n",
    "MAX_SEQUENCE_LENGTH = max(dataset_max_length)\n",
    "hate_array=[]\n",
    "is_balance= False"
   ]
  },
  {
   "cell_type": "code",
   "execution_count": 5,
   "metadata": {
    "colab": {
     "base_uri": "https://localhost:8080/"
    },
    "id": "lcDF0eI-zulN",
    "outputId": "d0e6943b-3950-440c-a02a-664106c7fbec"
   },
   "outputs": [
    {
     "name": "stderr",
     "output_type": "stream",
     "text": [
      "Downloading...\n",
      "From: https://drive.google.com/u/0/uc?id=0B7XkCwpI5KDYNlNUTTlSS21pQmM&export=download\n",
      "To: /content/GoogleNews-vectors-negative300.bin.gz\n",
      "100%|██████████| 1.65G/1.65G [00:08<00:00, 196MB/s]\n"
     ]
    }
   ],
   "source": [
    "url = 'https://drive.google.com/u/0/uc?id=0B7XkCwpI5KDYNlNUTTlSS21pQmM&export=download'\n",
    "output = 'GoogleNews-vectors-negative300.bin.gz'\n",
    "if not os.path.exists(output):\n",
    "  gdown.download(url, output, quiet=False)\n",
    "  !gzip -d GoogleNews-vectors-negative300.bin.gz"
   ]
  },
  {
   "cell_type": "code",
   "execution_count": 6,
   "metadata": {
    "id": "wUlNIYVVzzMZ"
   },
   "outputs": [],
   "source": [
    "def get_emb_matrix_by_gensim(word_index, max_features, embedding_file):\n",
    "    w2v_model = KeyedVectors.load_word2vec_format(embedding_file, binary=True)\n",
    "    embedding_dim = w2v_model.vectors.shape[1]\n",
    "    embedding_matrix = np.zeros((max_features, embedding_dim))\n",
    "    for word, i in word_index.items():\n",
    "        if i >= max_features: \n",
    "            continue\n",
    "        try:\n",
    "          embedding_vector = w2v_model.get_vector(word)\n",
    "        except:\n",
    "          embedding_vector = w2v_model.get_vector('unk')\n",
    "        if embedding_vector is not None: \n",
    "            embedding_matrix[i] = embedding_vector\n",
    "    return embedding_matrix\n",
    "\n",
    "def build_vocab(texts):\n",
    "    unique_words = set()\n",
    "    for text in texts:\n",
    "      unique_words.update([i.strip() for i in text.split(\" \") if i.strip()])\n",
    "    vocab = dict(zip(unique_words, list(range(1, len(unique_words) + 1))))\n",
    "    return vocab"
   ]
  },
  {
   "cell_type": "code",
   "execution_count": 7,
   "metadata": {
    "colab": {
     "base_uri": "https://localhost:8080/"
    },
    "id": "SZNtOrAwz1o5",
    "outputId": "2f3d20b9-80a3-4d26-aec1-d442333398d3"
   },
   "outputs": [
    {
     "name": "stderr",
     "output_type": "stream",
     "text": [
      "Build vocabulary ...\n",
      "Load word2vec model ...\n",
      "loading projection weights from ./GoogleNews-vectors-negative300.bin\n",
      "loaded (3000000, 300) matrix from ./GoogleNews-vectors-negative300.bin\n"
     ]
    }
   ],
   "source": [
    "merged_dataset = pd.concat([train_df, test_df], ignore_index=True)\n",
    "logger.info(\"Build vocabulary ...\")\n",
    "dataset_vocab = build_vocab(list(merged_dataset['text'].values))\n",
    "logger.info(\"Load word2vec model ...\")\n",
    "embedded_matrix = get_emb_matrix_by_gensim(dataset_vocab, len(dataset_vocab) + 1, './GoogleNews-vectors-negative300.bin')\n",
    "embedded_matrix = torch.FloatTensor(embedded_matrix)"
   ]
  },
  {
   "cell_type": "code",
   "execution_count": 8,
   "metadata": {
    "id": "suVEb5FIz4CK"
   },
   "outputs": [],
   "source": [
    "class MyDataset(Dataset):\n",
    "    def __init__(self, dataframe, max_seq_len, vocab, hate_array, is_balance = False, dataset_type=\"Train\"):\n",
    "        self.dataset_type = dataset_type\n",
    "        self.max_seq_len = MAX_SEQUENCE_LENGTH \n",
    "        self.vocab = vocab\n",
    "        self.is_balance = False\n",
    "        self.examples = self.create_examples(dataframe, hate_array)\n",
    "\n",
    "    def __len__(self):\n",
    "        return len(self.examples)\n",
    "\n",
    "    def __getitem__(self, index):\n",
    "        example = self.examples[index]\n",
    "        ex_token_tensor = torch.tensor(example[0], dtype=torch.long)\n",
    "        ex_label_tensor = torch.tensor(example[1], dtype=torch.long)\n",
    "        ex_seq_length_tensor = torch.tensor(example[2], dtype=torch.long)\n",
    "        ex_hate_tensor = torch.tensor(example[3], dtype=torch.long)\n",
    "        return ex_token_tensor, ex_label_tensor, ex_seq_length_tensor, ex_hate_tensor\n",
    "      \n",
    "    @staticmethod\n",
    "    def visualize(labels):\n",
    "        g = sns.countplot(labels)\n",
    "        g.set_xticklabels(['NOT','HOF'])\n",
    "        plt.show()\n",
    "\n",
    "    @staticmethod\n",
    "    def collate_fn(batch):\n",
    "        all_input_ids, all_labels, all_lens, all_hates = map(torch.stack, zip(*batch))\n",
    "        all_lens, indices = torch.sort(all_lens, descending=True)\n",
    "        all_input_ids = all_input_ids[indices]\n",
    "        all_labels = all_labels[indices]\n",
    "        return all_input_ids, all_labels, all_lens, all_hates\n",
    "  \n",
    "    def create_examples(self, data_df, hate_array):\n",
    "        data_df = data_df.reset_index()\n",
    "        examples = []\n",
    "        sentences = []\n",
    "        hates = []\n",
    "        labels = []\n",
    "        self.visualize(data_df['class'])\n",
    "        tqdm_bar = tqdm(data_df.iterrows(), desc=f'Create {self.dataset_type} examples: ', total=len(data_df), position=0, leave=True)\n",
    "        for _, row in tqdm_bar:\n",
    "            hate_ids = []\n",
    "            token_ids = [self.vocab[token] for token in str(row['text']).lower().strip().split()[:self.max_seq_len]] \n",
    "            for token in str(row['text']).lower().strip().split()[:self.max_seq_len]:\n",
    "              if token in hate_array:\n",
    "                hate_ids.append(1)\n",
    "              else:\n",
    "                hate_ids.append(0)\n",
    "            seq_len = len(token_ids)\n",
    "            hate_len = len(hate_ids)\n",
    "            if seq_len == 0:\n",
    "              continue\n",
    "            if seq_len < self.max_seq_len:\n",
    "              num_pad = self.max_seq_len - seq_len\n",
    "              token_ids += [0] * num_pad\n",
    "            if hate_len < self.max_seq_len:\n",
    "              num_pad = self.max_seq_len - seq_len\n",
    "              hate_ids += [0] * num_pad\n",
    "            if not len(token_ids) == self.max_seq_len:\n",
    "                logger.info(f\"{seq_len} => {len(token_ids)}\")\n",
    "            if self.is_balance and self.dataset_type == 'Train':\n",
    "              token_ids = torch.LongTensor(token_ids)\n",
    "              hate_ids = torch.LongTensor(hate_ids)\n",
    "              sentences.append(token_ids)\n",
    "              hates.append(hate_ids)\n",
    "              labels.append(row['class'])\n",
    "            else:\n",
    "              examples.append((token_ids, row['class'], seq_len, hate_ids))\n",
    "        if self.is_balance and self.dataset_type == 'Train':    \n",
    "          new_sentences = torch.stack(sentences)\n",
    "          new_labels = torch.LongTensor(labels)\n",
    "          new_hates = torch.stack(hates)\n",
    "          smote = SMOTE() \n",
    "          x_smote, y_smote = smote.fit_resample(new_sentences, labels)\n",
    "          hate_smote, y_hate_smote = smote.fit_resample(new_hates, labels)\n",
    "          for _,ins in enumerate(x_smote):\n",
    "              indices = np.where(ins==11380)\n",
    "              new_list = np.delete(ins, indices) \n",
    "              examples.append((ins, y_smote[_], len(new_list), hate_smote[_]))\n",
    "          self.visualize(y_smote)\n",
    "        for index in range(2):\n",
    "            logger.info(f\"{self.dataset_type} example {index}: \")\n",
    "            logger.info(f\"\\tRaw text    : {data_df['text'][index]}\")\n",
    "            logger.info(f\"\\tToken IDS   : {examples[index][0]}\")\n",
    "            logger.info(f\"\\tHate IDS    : {examples[index][3]}\")\n",
    "            logger.info(f\"\\tLabel ID    : {examples[index][1]}\")\n",
    "            logger.info(f\"\\tSeq length  : {examples[index][2]}\")\n",
    "        return examples"
   ]
  },
  {
   "cell_type": "code",
   "execution_count": 9,
   "metadata": {
    "colab": {
     "base_uri": "https://localhost:8080/",
     "height": 1000
    },
    "id": "v7NPwFL5z7SC",
    "outputId": "cf22eab0-a2fa-4c9c-9966-79d0543904a8"
   },
   "outputs": [
    {
     "data": {
      "image/png": "[encoded data removed]",
      "text/plain": [
       "<Figure size 432x288 with 1 Axes>"
      ]
     },
     "metadata": {
      "needs_background": "light"
     },
     "output_type": "display_data"
    },
    {
     "name": "stderr",
     "output_type": "stream",
     "text": [
      "Create Train examples: 100%|██████████| 5852/5852 [00:00<00:00, 6237.93it/s]\n",
      "Train example 0: \n",
      "\tRaw text    : watch sports minister kiren rijiju issues statement backing ms dhoni over balidaan badge tell bcci to take up the matter with icc and keep government in the know as nation pride be involve\n",
      "\tToken IDS   : [11493, 2804, 10559, 2910, 7830, 5034, 10937, 1753, 818, 6845, 4073, 7802, 6852, 3698, 3901, 658, 3214, 9058, 6734, 4348, 9, 296, 10528, 810, 7214, 10701, 6734, 11546, 1001, 1369, 6279, 8514, 9586, 0, 0, 0, 0, 0, 0, 0, 0, 0, 0, 0, 0, 0, 0, 0, 0, 0, 0, 0, 0, 0, 0, 0, 0]\n",
      "\tHate IDS    : [0, 0, 0, 0, 0, 0, 0, 0, 0, 0, 0, 0, 0, 0, 0, 0, 0, 0, 0, 0, 0, 0, 0, 0, 0, 0, 0, 0, 0, 0, 0, 0, 0, 0, 0, 0, 0, 0, 0, 0, 0, 0, 0, 0, 0, 0, 0, 0, 0, 0, 0, 0, 0, 0, 0, 0, 0]\n",
      "\tLabel ID    : 0\n",
      "\tSeq length  : 33\n",
      "Train example 1: \n",
      "\tRaw text    : no should remember very clearly that just admit to treason\n",
      "\tToken IDS   : [2659, 4502, 971, 3629, 7608, 11543, 11534, 7756, 658, 1996, 0, 0, 0, 0, 0, 0, 0, 0, 0, 0, 0, 0, 0, 0, 0, 0, 0, 0, 0, 0, 0, 0, 0, 0, 0, 0, 0, 0, 0, 0, 0, 0, 0, 0, 0, 0, 0, 0, 0, 0, 0, 0, 0, 0, 0, 0, 0]\n",
      "\tHate IDS    : [0, 0, 0, 0, 0, 0, 0, 0, 0, 0, 0, 0, 0, 0, 0, 0, 0, 0, 0, 0, 0, 0, 0, 0, 0, 0, 0, 0, 0, 0, 0, 0, 0, 0, 0, 0, 0, 0, 0, 0, 0, 0, 0, 0, 0, 0, 0, 0, 0, 0, 0, 0, 0, 0, 0, 0, 0]\n",
      "\tLabel ID    : 1\n",
      "\tSeq length  : 10\n"
     ]
    },
    {
     "data": {
      "image/png": "[encoded data removed]",
      "text/plain": [
       "<Figure size 432x288 with 1 Axes>"
      ]
     },
     "metadata": {
      "needs_background": "light"
     },
     "output_type": "display_data"
    },
    {
     "name": "stderr",
     "output_type": "stream",
     "text": [
      "Create Test examples: 100%|██████████| 1153/1153 [00:00<00:00, 6138.26it/s]\n",
      "Test example 0: \n",
      "\tRaw text    : west bengal doctor crisis protest doctor agree to meet mamata banerjee in presence of full medium even as be going to go on strike\n",
      "\tToken IDS   : [2491, 5100, 1474, 8233, 7657, 1474, 7572, 658, 6680, 5619, 2466, 10701, 7410, 11229, 10634, 3398, 9437, 1001, 8514, 4490, 658, 2650, 5468, 10875, 0, 0, 0, 0, 0, 0, 0, 0, 0, 0, 0, 0, 0, 0, 0, 0, 0, 0, 0, 0, 0, 0, 0, 0, 0, 0, 0, 0, 0, 0, 0, 0, 0]\n",
      "\tHate IDS    : [0, 0, 0, 0, 0, 0, 0, 0, 0, 0, 0, 0, 0, 0, 0, 0, 0, 0, 0, 0, 0, 0, 0, 0, 0, 0, 0, 0, 0, 0, 0, 0, 0, 0, 0, 0, 0, 0, 0, 0, 0, 0, 0, 0, 0, 0, 0, 0, 0, 0, 0, 0, 0, 0, 0, 0, 0]\n",
      "\tLabel ID    : 0\n",
      "\tSeq length  : 24\n",
      "Test example 1: \n",
      "\tRaw text    : million people have be force to leave home read more\n",
      "\tToken IDS   : [9037, 7767, 4315, 8514, 6633, 658, 8787, 9208, 3184, 2591, 0, 0, 0, 0, 0, 0, 0, 0, 0, 0, 0, 0, 0, 0, 0, 0, 0, 0, 0, 0, 0, 0, 0, 0, 0, 0, 0, 0, 0, 0, 0, 0, 0, 0, 0, 0, 0, 0, 0, 0, 0, 0, 0, 0, 0, 0, 0]\n",
      "\tHate IDS    : [0, 0, 0, 0, 0, 0, 0, 0, 0, 0, 0, 0, 0, 0, 0, 0, 0, 0, 0, 0, 0, 0, 0, 0, 0, 0, 0, 0, 0, 0, 0, 0, 0, 0, 0, 0, 0, 0, 0, 0, 0, 0, 0, 0, 0, 0, 0, 0, 0, 0, 0, 0, 0, 0, 0, 0, 0]\n",
      "\tLabel ID    : 0\n",
      "\tSeq length  : 10\n"
     ]
    }
   ],
   "source": [
    "if not (os.path.exists(f\"train_dataset_{data_name}_cached.pt\" ) and os.path.exists( f\"test_dataset_{data_name}_cached.pt\")):\n",
    "    train_dataset = MyDataset(train_df, MAX_SEQUENCE_LENGTH, dataset_vocab, hate_array, is_balance, dataset_type='Train')\n",
    "    test_dataset = MyDataset(test_df, MAX_SEQUENCE_LENGTH, dataset_vocab, hate_array, is_balance, dataset_type='Test')\n",
    "    torch.save(train_dataset, f\"train_dataset_{data_name}_cached.pt\" )\n",
    "    torch.save(test_dataset,  f\"test_dataset_{data_name}_cached.pt\")\n",
    "else:\n",
    "    train_dataset = torch.load(f\"train_dataset_{data_name}_cached.pt\")\n",
    "    test_dataset = torch.load( f\"test_dataset_{data_name}_cached.pt\")"
   ]
  },
  {
   "cell_type": "code",
   "execution_count": 10,
   "metadata": {
    "id": "AJ2xV7cDz9Wi"
   },
   "outputs": [],
   "source": [
    "class TextCNN(nn.Module):\n",
    "    def __init__(self, num_filters, num_labels, max_len, vocab_size, embed_dim, pad_idx, dropout_prob, use_hatedict=False, vectors=None):\n",
    "        super(TextCNN, self).__init__()\n",
    "        self.max_len = max_len\n",
    "\n",
    "        self.embed_layer = nn.Embedding.from_pretrained(vectors, padding_idx=pad_idx)\n",
    "        if vectors is not None:\n",
    "          self.embed_layer.weight.data = nn.Parameter(vectors, requires_grad=True)\n",
    "        if use_hatedict:\n",
    "          self.hate_layer = HateEmbedding(MAX_SEQUENCE_LENGTH)\n",
    "          embed_dim += 1 \n",
    "        self.embed_dim = embed_dim\n",
    "\n",
    "        self.conv1 = nn.Conv1d(1, num_filters, 1 * embed_dim, stride= embed_dim)\n",
    "        self.conv2 = nn.Conv1d(1, num_filters, 2 * embed_dim, stride= embed_dim)\n",
    "        self.conv3 = nn.Conv1d(1, num_filters, 3 * embed_dim, stride= embed_dim)\n",
    "\n",
    "        self.dropout = nn.Dropout(dropout_prob)\n",
    "\n",
    "        self.fc_layer = nn.Linear(3 * num_filters, num_labels)\n",
    "        self.softmax = nn.Softmax(dim=-1)\n",
    "\n",
    "    def forward(self, input_ids, seq_len, hate_ids=None):\n",
    "        if hate_ids is not None:\n",
    "          hate_embedded = self.hate_layer(hate_ids)\n",
    "          word_embedded = self.embed_layer(input_ids)\n",
    "          input_representation = torch.cat((word_embedded, hate_embedded), -1)\n",
    "          x = input_representation.view(-1, 1, (self.embed_dim) * self.max_len)\n",
    "        else:\n",
    "          x = self.embed_layer(input_ids).view(-1, 1, (self.embed_dim * self.max_len))\n",
    "        # Convolution\n",
    "        conv1 = F.relu(self.conv1(x))\n",
    "        conv2 = F.relu(self.conv2(x))\n",
    "        conv3 = F.relu(self.conv3(x))\n",
    "\n",
    "        # Pooling\n",
    "        pooled_conv1 = F.max_pool1d(conv1, self.max_len - 1 + 1).squeeze(-1)\n",
    "        pooled_conv2 = F.max_pool1d(conv2, self.max_len - 2 + 1).squeeze(-1)\n",
    "        pooled_conv3 = F.max_pool1d(conv3, self.max_len - 3 + 1).squeeze(-1)\n",
    "\n",
    "        x = torch.cat((pooled_conv1, pooled_conv2, pooled_conv3), 1)\n",
    "        x = self.dropout(x)\n",
    "\n",
    "\n",
    "        logits = self.fc_layer(x)\n",
    "        probs = self.softmax(logits)\n",
    "        return probs"
   ]
  },
  {
   "cell_type": "code",
   "execution_count": 14,
   "metadata": {
    "id": "dpy2hdpy0Bxr"
   },
   "outputs": [],
   "source": [
    "def get_total_time(start_time):\n",
    "    end = time.time()\n",
    "    hours, rem = divmod(end - start_time, 3600)\n",
    "    minutes, seconds = divmod(rem, 60)\n",
    "    return sum([int(hours*3600), int(minutes*60), int(seconds)])\n",
    "\n",
    "def caculate_score(actuals, predicts):\n",
    "    acc_score = metrics.accuracy_score(actuals, predicts)\n",
    "    f1_macro_score = metrics.f1_score(actuals, predicts, average=\"macro\")\n",
    "    f1_weighted_score = metrics.f1_score(actuals, predicts, average=\"weighted\")\n",
    "    report = metrics.classification_report(actuals, predicts, output_dict=True)\n",
    "    tn, fp, fn, tp = metrics.confusion_matrix(actuals, predicts).ravel()\n",
    "    f1_0 = round(report['0']['f1-score'], ndigits=2)\n",
    "    f1_1 = round(report['1']['f1-score'], ndigits=2)\n",
    "    acc_0 = round(tn/(tn+fp), ndigits=2)\n",
    "    acc_1 = round(tp/(tp+fn), ndigits=2)\n",
    "    precision=tp / (tp + fp)\n",
    "    recall = tp / (tp + fn)\n",
    "    return acc_score, f1_0, f1_1, acc_0, acc_1, f1_macro_score, precision,recall\n",
    "\n",
    "def plot_loss(history):\n",
    "    plt.plot(history['train_loss'])\n",
    "    plt.plot(history['eval_loss'])\n",
    "    plt.title('Model loss')\n",
    "    plt.ylabel('Loss')\n",
    "    plt.xlabel('Epoch')\n",
    "    plt.legend(['Train', 'Evaluate'], loc='upper left')\n",
    "    plt.show()\n",
    "\n",
    "def eval(model, criterion, eval_iter):\n",
    "    sum_loss = 0\n",
    "    predicts, actuals = [], []\n",
    "    model.eval()\n",
    "    eval_bar = tqdm(eval_iter, desc=f'\\tEval',total=len(eval_iter), position=0, leave=0)\n",
    "    start_time = time.time()\n",
    "    with torch.no_grad():\n",
    "      for batch in eval_bar:\n",
    "        if len(batch) == 3:\n",
    "          input_ids, label_ids, seq_lens = batch\n",
    "        else:\n",
    "          input_ids, label_ids, seq_lens, _ = batch\n",
    "        if device == 'cuda':\n",
    "          input_ids = input_ids.cuda()\n",
    "          label_ids = label_ids.cuda()\n",
    "          seq_lens = seq_lens.cuda()\n",
    "        outs = model(input_ids, seq_lens)\n",
    "        loss = criterion(outs, label_ids)\n",
    "        sum_loss += loss.item()\n",
    "        predicts += [y.argmax().item() for y in outs]\n",
    "        actuals += label_ids.tolist()\n",
    "    acc_score, f1_0, f1_1, acc_0, acc_1, f1_macro_score,precision,recall = caculate_score(actuals, predicts)\n",
    "    avg_loss = sum_loss / len(eval_iter)\n",
    "    reports = metrics.classification_report(actuals, predicts, target_names=list(label_maps.keys()), output_dict=True)\n",
    "    return avg_loss,  (acc_score, f1_0, f1_1, acc_0, acc_1, f1_macro_score , precision,recall), reports\n",
    "\n",
    "def train(model, criterion, optimizer, train_iter, eval_iter, scheduler=None):\n",
    "    history = {'train_loss':[], 'eval_loss':[]}\n",
    "    best_model = copy.deepcopy(model)\n",
    "    best_epoch = 0\n",
    "    min_loss = float('inf')\n",
    "    counter = 0\n",
    "    epoch_time = {}\n",
    "    for epoch in range(num_epochs):\n",
    "        start = time.time()\n",
    "        sum_loss = 0\n",
    "        predicts, actuals = [], []\n",
    "        model.train()\n",
    "        train_bar = tqdm(train_iter, desc=f'\\tEpoch {epoch}', total=len(train_iter), position=0, leave=0)\n",
    "        start_time = time.time()\n",
    "        for batch in train_bar:\n",
    "          if len(batch) == 3:\n",
    "            input_ids, label_ids, seq_lens = batch\n",
    "          else:\n",
    "            input_ids, label_ids, seq_lens, _ = batch\n",
    "          if device == 'cuda':\n",
    "            input_ids = input_ids.cuda()\n",
    "            label_ids = label_ids.cuda()\n",
    "            seq_lens = seq_lens.cuda()\n",
    "          outs = model(input_ids, seq_lens)\n",
    "          loss = criterion(outs, label_ids)\n",
    "          loss.backward()\n",
    "          optimizer.step()\n",
    "          sum_loss += loss.item()\n",
    "          predicts += [y.argmax().item() for y in outs]\n",
    "          actuals += label_ids.tolist()\n",
    "        train_loss = sum_loss / len(train_iter)\n",
    " \n",
    "        epoch_time[epoch] = get_total_time(start)\n",
    "        eval_loss, eval_scores, _ = eval(model, criterion, eval_iter)\n",
    "        if scheduler is not None:\n",
    "            scheduler.step(eval_loss)\n",
    "        history['train_loss'].append(train_loss)\n",
    "        history['eval_loss'].append(eval_loss)\n",
    "        if eval_loss <= min_loss:\n",
    "            best_model = copy.deepcopy(model)\n",
    "            min_loss = eval_loss\n",
    "            best_epoch = epoch\n",
    "            counter = 0\n",
    "        else:\n",
    "            counter += 1\n",
    "        if counter >= early_stop:\n",
    "            break\n",
    "    plot_loss(history)\n",
    "    return best_model, best_epoch, epoch_time\n"
   ]
  },
  {
   "cell_type": "code",
   "execution_count": 15,
   "metadata": {
    "id": "plIjcwa70HO7"
   },
   "outputs": [],
   "source": [
    "# Model Options\n",
    "device = 'cuda' if torch.cuda.is_available() else 'cpu' # device\n",
    "embed_dim = 300 # embed dim\n",
    "dropout_prob = 0.5 # Dropout prob\n",
    "num_filters = 200 # num filters\n",
    "pad_idx = 0 # Padding\n",
    "num_labels = 2 # num labels\n",
    "\n",
    "# Training Options\n",
    "num_epochs = 100 # Epoch\n",
    "num_fold = 5 # Num fold\n",
    "batch_size = 32\n",
    "early_stop = 30 # Early Stop\n",
    "learning_rate = 2e-5 # learning rate\n",
    "loss_function = nn.CrossEntropyLoss() # Loss Function \n",
    "\n",
    "kfold =  StratifiedKFold(n_splits=num_fold, random_state=1, shuffle=True)"
   ]
  },
  {
   "cell_type": "code",
   "execution_count": 17,
   "metadata": {
    "colab": {
     "base_uri": "https://localhost:8080/",
     "height": 1000
    },
    "id": "CZFgzk8l0H9b",
    "outputId": "2be0a51d-3088-48e9-f2b9-a5079a030fe3"
   },
   "outputs": [
    {
     "name": "stderr",
     "output_type": "stream",
     "text": [
      "Fold-0\n"
     ]
    },
    {
     "data": {
      "image/png": "[encoded data removed]",
      "text/plain": [
       "<Figure size 432x288 with 1 Axes>"
      ]
     },
     "metadata": {
      "needs_background": "light"
     },
     "output_type": "display_data"
    },
    {
     "name": "stderr",
     "output_type": "stream",
     "text": [
      "\n",
      "Best Epoch: 14\n",
      "\tAVG Loss: 0.493253; Accurancy: 0.8123; F1_macro: 0.7569;  Precision : 0.6201;Recall: 0.6632\n",
      "\tClass scores:\n",
      "\t\tNOT: 0.8729216152019003\n",
      "\t\tHOF: 0.6409395973154361\n",
      "Fold-1\n"
     ]
    },
    {
     "data": {
      "image/png": "[encoded data removed]",
      "text/plain": [
       "<Figure size 432x288 with 1 Axes>"
      ]
     },
     "metadata": {
      "needs_background": "light"
     },
     "output_type": "display_data"
    },
    {
     "name": "stderr",
     "output_type": "stream",
     "text": [
      "\n",
      "Best Epoch: 6\n",
      "\tAVG Loss: 0.490355; Accurancy: 0.8246; F1_macro: 0.7616;  Precision : 0.6654;Recall: 0.6146\n",
      "\tClass scores:\n",
      "\t\tNOT: 0.884125144843569\n",
      "\t\tHOF: 0.6389891696750903\n",
      "Fold-2\n"
     ]
    },
    {
     "data": {
      "image/png": "[encoded data removed]",
      "text/plain": [
       "<Figure size 432x288 with 1 Axes>"
      ]
     },
     "metadata": {
      "needs_background": "light"
     },
     "output_type": "display_data"
    },
    {
     "name": "stderr",
     "output_type": "stream",
     "text": [
      "\n",
      "Best Epoch: 15\n",
      "\tAVG Loss: 0.495626; Accurancy: 0.8088; F1_macro: 0.7540;  Precision : 0.6115;Recall: 0.6667\n",
      "\tClass scores:\n",
      "\t\tNOT: 0.8700834326579262\n",
      "\t\tHOF: 0.6378737541528239\n",
      "Fold-3\n"
     ]
    },
    {
     "data": {
      "image/png": "[encoded data removed]",
      "text/plain": [
       "<Figure size 432x288 with 1 Axes>"
      ]
     },
     "metadata": {
      "needs_background": "light"
     },
     "output_type": "display_data"
    },
    {
     "name": "stderr",
     "output_type": "stream",
     "text": [
      "\n",
      "Best Epoch: 8\n",
      "\tAVG Loss: 0.505068; Accurancy: 0.8009; F1_macro: 0.7532;  Precision : 0.5869;Recall: 0.7153\n",
      "\tClass scores:\n",
      "\t\tNOT: 0.8616697135892748\n",
      "\t\tHOF: 0.6447574334898278\n",
      "Fold-4\n"
     ]
    },
    {
     "data": {
      "image/png": "[encoded data removed]",
      "text/plain": [
       "<Figure size 432x288 with 1 Axes>"
      ]
     },
     "metadata": {
      "needs_background": "light"
     },
     "output_type": "display_data"
    },
    {
     "name": "stderr",
     "output_type": "stream",
     "text": [
      "\n",
      "Best Epoch: 14\n",
      "\tAVG Loss: 0.494447; Accurancy: 0.8132; F1_macro: 0.7529;  Precision : 0.6298;Recall: 0.6319\n",
      "\tClass scores:\n",
      "\t\tNOT: 0.8749266001174398\n",
      "\t\tHOF: 0.630849220103986\n",
      "===================================SUMMARY===================================\n",
      "\tAVG Accurancy: 0.8119; AVG F1_macro: 0.7557; Precision: 0.6227; Recall: 0.6583\n",
      "\tAVG Class scores: \n",
      "\t\tNOT: 0.8727\n",
      "\t\tHOF: 0.6387\n",
      "Accuracy for label 0: 0.8640\n",
      "F1 for label 0: 0.8700\n",
      "Accuracy for label 1: 0.6580\n",
      "F1 for label 1: 0.6380\n",
      "Macro F1 Score: 0.7557\n",
      "Precision: 0.6227\n",
      "Recall: 0.6583\n",
      "Acc Score: 0.8119\n",
      "------------------------------\n",
      "Total 5-Fold Time: [58, 48, 59, 50, 58]\n",
      "Total 5-Fold Time: 273\n",
      "Avg Fold Time: 54.6\n",
      "Avg Epoch Time 1.0\n",
      "Num of Epoches: [45, 37, 46, 39, 45]\n"
     ]
    }
   ],
   "source": [
    "data_idxs = list(range(train_dataset.__len__()))\n",
    "data_labels = [train_dataset.examples[i][1] for i in data_idxs]\n",
    "label_maps = {\"NOT\": 0, \"HOF\":1}\n",
    "avg_scores = {'f1_0': [],'f1_1':[],'acc_0': [],'acc_1': [], 'macro_f1': [], 'macro_acc': [],'precision':[],'recall': [], 'acc': [],'labels': {k:[] for k in label_maps.keys()}}\n",
    "criterion = nn.CrossEntropyLoss()\n",
    "total_time = []\n",
    "total_epoch = []\n",
    "epoches = []\n",
    "for idx, (train_index, test_index) in enumerate(kfold.split(data_idxs, data_labels)):\n",
    "    start = time.time()\n",
    "    model = TextCNN(num_filters, num_labels, MAX_SEQUENCE_LENGTH,embedded_matrix.shape[0], embed_dim, pad_idx, dropout_prob, vectors=embedded_matrix)\n",
    "    model.to(device)\n",
    "    optimizer = torch.optim.Adam(filter(lambda p: p.requires_grad, model.parameters()), lr=learning_rate, weight_decay=1e-5)\n",
    "    train_subsampler = torch.utils.data.SubsetRandomSampler(train_index)\n",
    "    eval_subsampler = torch.utils.data.SubsetRandomSampler(test_index)\n",
    "    train_iter = DataLoader(train_dataset, batch_size=batch_size, sampler=train_subsampler, collate_fn=MyDataset.collate_fn)\n",
    "    eval_iter = DataLoader(train_dataset, batch_size=batch_size, sampler=eval_subsampler, collate_fn=MyDataset.collate_fn)\n",
    "    logger.info(f\"Fold-{idx}\")\n",
    "    best_model, best_epoch, epoch_time = train(model, criterion, optimizer, train_iter, eval_iter)\n",
    "    logger.info(f\"\\nBest Epoch: {best_epoch}\")\n",
    "    epoches.append(len(list(epoch_time.values())))\n",
    "    total_epoch.append(round(np.mean(list(epoch_time.values()))))\n",
    "    test_iter = DataLoader(test_dataset, batch_size=batch_size, shuffle=True, collate_fn=MyDataset.collate_fn)\n",
    "    loss, scores, reports = eval(best_model, criterion, test_iter)\n",
    "    logger.info(f\"\\tAVG Loss: {loss:.6f}; Accurancy: {scores[0]:.4f}; F1_macro: {scores[5]:.4f};  Precision : {scores[6]:.4f};Recall: {scores[7]:.4f}\")\n",
    "    logger.info(f\"\\tClass scores:\")\n",
    "    avg_scores['acc'].append(scores[0])\n",
    "    avg_scores['f1_0'].append(scores[1])\n",
    "    avg_scores['f1_1'].append(scores[2])\n",
    "    avg_scores['acc_0'].append(scores[3])\n",
    "    avg_scores['acc_1'].append(scores[4])\n",
    "    avg_scores['macro_f1'].append(scores[5])\n",
    "    avg_scores['precision'].append(scores[6])\n",
    "    avg_scores['recall'].append(scores[7])\n",
    "    for label in label_maps.keys():\n",
    "        avg_scores['labels'][label].append(reports[label]['f1-score'])\n",
    "        logger.info(f\"\\t\\t{label}: {reports[label]['f1-score']}\")\n",
    "    total_time.append(get_total_time(start))\n",
    "logger.info(f\"{'='*35}SUMMARY{'='*35}\")\n",
    "logger.info(f\"\\tAVG Accurancy: {(sum(avg_scores['acc'])/num_fold):.4f}; AVG F1_macro: {(sum(avg_scores['macro_f1'])/num_fold):.4f}; Precision: {(sum(avg_scores['precision'])/num_fold):.4f}; Recall: {(sum(avg_scores['recall'])/num_fold):.4f}\")\n",
    "logger.info(\"\\tAVG Class scores: \")\n",
    "for label in label_maps.keys():\n",
    "    logger.info(f\"\\t\\t{label}: {(sum(avg_scores['labels'][label])/num_fold):.4f}\")\n",
    "logger.info(f\"Accuracy for label 0: {(sum(avg_scores['acc_0'])/num_fold):.4f}\")\n",
    "logger.info(f\"F1 for label 0: {(sum(avg_scores['f1_0'])/num_fold):.4f}\")\n",
    "logger.info(f\"Accuracy for label 1: {(sum(avg_scores['acc_1'])/num_fold):.4f}\")\n",
    "logger.info(f\"F1 for label 1: {(sum(avg_scores['f1_1'])/num_fold):.4f}\")\n",
    "logger.info(f\"Macro F1 Score: {(sum(avg_scores['macro_f1'])/num_fold):.4f}\")\n",
    "logger.info(f\"Precision: {(sum(avg_scores['precision'])/num_fold):.4f}\")\n",
    "logger.info(f\"Recall: {(sum(avg_scores['recall'])/num_fold):.4f}\")\n",
    "logger.info(f\"Acc Score: {(sum(avg_scores['acc'])/num_fold):.4f}\")\n",
    "logger.info(\"-\"*30)\n",
    "logger.info(f'Total 5-Fold Time: {total_time}')\n",
    "logger.info(f'Total 5-Fold Time: {np.sum(total_time)}')\n",
    "logger.info(f'Avg Fold Time: {np.mean(total_time)}')\n",
    "logger.info(f'Avg Epoch Time {np.mean(total_epoch)}')\n",
    "logger.info(f'Num of Epoches: {epoches}')"
   ]
  }
 ],
 "metadata": {
  "accelerator": "GPU",
  "colab": {
   "collapsed_sections": [],
   "name": "cnn_lstm.ipynb",
   "provenance": []
  },
  "kernelspec": {
   "display_name": "Python 3 (ipykernel)",
   "language": "python",
   "name": "python3"
  },
  "language_info": {
   "codemirror_mode": {
    "name": "ipython",
    "version": 3
   },
   "file_extension": ".py",
   "mimetype": "text/x-python",
   "name": "python",
   "nbconvert_exporter": "python",
   "pygments_lexer": "ipython3",
   "version": "3.7.11"
  }
 },
 "nbformat": 4,
 "nbformat_minor": 1
}
